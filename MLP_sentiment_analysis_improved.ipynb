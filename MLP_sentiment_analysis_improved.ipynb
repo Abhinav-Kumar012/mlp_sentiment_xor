{
 "cells": [
  {
   "cell_type": "code",
   "execution_count": null,
   "metadata": {},
   "outputs": [
    {
     "name": "stdout",
     "output_type": "stream",
     "text": [
      "Collecting en-core-web-md==3.8.0\n",
      "  Using cached https://github.com/explosion/spacy-models/releases/download/en_core_web_md-3.8.0/en_core_web_md-3.8.0-py3-none-any.whl (33.5 MB)\n",
      "\u001b[38;5;2m✔ Download and installation successful\u001b[0m\n",
      "You can now load the package via spacy.load('en_core_web_md')\n"
     ]
    },
    {
     "name": "stderr",
     "output_type": "stream",
     "text": [
      "\n",
      "[notice] A new release of pip is available: 25.0 -> 25.0.1\n",
      "[notice] To update, run: C:\\Users\\bajor\\AppData\\Local\\Microsoft\\WindowsApps\\PythonSoftwareFoundation.Python.3.11_qbz5n2kfra8p0\\python.exe -m pip install --upgrade pip\n"
     ]
    }
   ],
   "source": [
    "import numpy as np\n",
    "from sklearn.metrics.pairwise import cosine_similarity\n",
    "from sklearn.metrics import confusion_matrix\n",
    "import matplotlib.pyplot as plt\n",
    "import seaborn as sns\n",
    "\n",
    "import pandas as pd\n",
    "from sklearn.model_selection import train_test_split\n",
    "from sklearn.preprocessing import LabelEncoder\n",
    "from sklearn.feature_extraction.text import TfidfVectorizer\n",
    "from sklearn.metrics import classification_report\n",
    "from imblearn.over_sampling import SMOTE\n",
    "import re\n",
    "import nltk\n",
    "from nltk.corpus import stopwords\n",
    "from nltk.stem import WordNetLemmatizer\n",
    "import numpy as np\n",
    "import torch\n",
    "import torch.nn as nn\n",
    "import torch.optim as optim\n",
    "from torch.utils.data import TensorDataset, DataLoader\n",
    "from tabulate import tabulate"
   ]
  },
  {
   "cell_type": "code",
   "execution_count": 6,
   "metadata": {},
   "outputs": [
    {
     "name": "stderr",
     "output_type": "stream",
     "text": [
      "[nltk_data] Downloading package stopwords to\n",
      "[nltk_data]     C:\\Users\\bajor\\AppData\\Roaming\\nltk_data...\n",
      "[nltk_data]   Package stopwords is already up-to-date!\n",
      "[nltk_data] Downloading package wordnet to\n",
      "[nltk_data]     C:\\Users\\bajor\\AppData\\Roaming\\nltk_data...\n",
      "[nltk_data]   Package wordnet is already up-to-date!\n"
     ]
    }
   ],
   "source": [
    "# Download necessary resources\n",
    "nltk.download('stopwords')\n",
    "nltk.download('wordnet')\n",
    "stop_words = set(stopwords.words('english'))\n",
    "lemmatizer = WordNetLemmatizer()\n",
    "\n",
    "# Load dataset\n",
    "df = pd.read_csv(\"sentimentdataset.csv\")"
   ]
  },
  {
   "cell_type": "code",
   "execution_count": 7,
   "metadata": {},
   "outputs": [
    {
     "name": "stdout",
     "output_type": "stream",
     "text": [
      "Original number of samples: 732\n",
      "Original number of unique sentiments: 191\n"
     ]
    }
   ],
   "source": [
    "def preprocess_text(text):\n",
    "    text = str(text).lower()\n",
    "    text = re.sub(r'[^a-zA-Z\\s]', '', text)\n",
    "    text = ' '.join([lemmatizer.lemmatize(word) for word in text.split() if word not in stop_words])  # Lemmatization and removing stopwords\n",
    "    return text\n",
    "\n",
    "# Clean up dataframe and preprocess text\n",
    "df = df[[\"Text\", \"Sentiment\"]]\n",
    "df = df.dropna()\n",
    "df[\"Sentiment\"] = df[\"Sentiment\"].str.strip()\n",
    "df[\"ProcessedText\"] = df[\"Text\"].apply(preprocess_text)\n",
    "\n",
    "# Print initial class distribution\n",
    "print(f\"Original number of samples: {len(df)}\")\n",
    "print(f\"Original number of unique sentiments: {df['Sentiment'].nunique()}\")"
   ]
  },
  {
   "cell_type": "code",
   "execution_count": 8,
   "metadata": {},
   "outputs": [],
   "source": [
    "# Encode labels\n",
    "label_encoder = LabelEncoder()\n",
    "df[\"SentimentEncoded\"] = label_encoder.fit_transform(df[\"Sentiment\"])"
   ]
  },
  {
   "cell_type": "code",
   "execution_count": 9,
   "metadata": {},
   "outputs": [
    {
     "name": "stdout",
     "output_type": "stream",
     "text": [
      "Class distribution before filtering (top 10): \n",
      "SentimentEncoded\n",
      "146    45\n",
      "116    44\n",
      "76     37\n",
      "40     19\n",
      "135    18\n",
      "90     18\n",
      "46     16\n",
      "166    15\n",
      "93     14\n",
      "136    11\n",
      "Name: count, dtype: int64\n"
     ]
    }
   ],
   "source": [
    "# Encode labels and print distribution\n",
    "label_encoder = LabelEncoder()\n",
    "df[\"SentimentEncoded\"] = label_encoder.fit_transform(df[\"Sentiment\"])\n",
    "class_counts = df[\"SentimentEncoded\"].value_counts()\n",
    "print(f\"Class distribution before filtering (top 10): \\n{class_counts.head(10)}\")"
   ]
  },
  {
   "cell_type": "code",
   "execution_count": 10,
   "metadata": {},
   "outputs": [
    {
     "name": "stdout",
     "output_type": "stream",
     "text": [
      "Number of classes with only 1 sample (to be removed): 79\n"
     ]
    }
   ],
   "source": [
    "# Remove very rare classes (with only 1 sample)\n",
    "rare_classes = class_counts[class_counts < 2].index\n",
    "print(f\"Number of classes with only 1 sample (to be removed): {len(rare_classes)}\")\n",
    "df = df[~df[\"SentimentEncoded\"].isin(rare_classes)]"
   ]
  },
  {
   "cell_type": "code",
   "execution_count": 12,
   "metadata": {},
   "outputs": [
    {
     "name": "stdout",
     "output_type": "stream",
     "text": [
      "Number of samples after filtering: 653\n",
      "Number of unique sentiments after filtering: 112\n",
      "Class distribution after filtering (sample counts): [8 3 4 2 3 2 6 3 2 3]...\n"
     ]
    }
   ],
   "source": [
    "# Re-encode labels after filtering to get consecutive class indices\n",
    "X = df[\"ProcessedText\"]\n",
    "y_classes = df[\"Sentiment\"]\n",
    "label_encoder = LabelEncoder()\n",
    "y = label_encoder.fit_transform(y_classes)\n",
    "\n",
    "print(f\"Number of samples after filtering: {len(df)}\")\n",
    "print(f\"Number of unique sentiments after filtering: {len(np.unique(y))}\")\n",
    "print(f\"Class distribution after filtering (sample counts): {np.bincount(y)[:10]}...\")"
   ]
  },
  {
   "cell_type": "code",
   "execution_count": 13,
   "metadata": {},
   "outputs": [
    {
     "name": "stdout",
     "output_type": "stream",
     "text": [
      "Train set shape: 522 samples\n",
      "Test set shape: 131 samples\n"
     ]
    }
   ],
   "source": [
    "# Split dataset into test and train \n",
    "X_train, X_test, y_train, y_test, classes_train, classes_test = train_test_split(\n",
    "    X, y, y_classes, test_size=0.2, random_state=42, stratify=y\n",
    ")\n",
    "\n",
    "print(f\"Train set shape: {X_train.shape[0]} samples\")\n",
    "print(f\"Test set shape: {X_test.shape[0]} samples\")"
   ]
  },
  {
   "cell_type": "code",
   "execution_count": 14,
   "metadata": {},
   "outputs": [
    {
     "name": "stdout",
     "output_type": "stream",
     "text": [
      "TF-IDF features shape: (522, 5083)\n"
     ]
    }
   ],
   "source": [
    "# Convert text to numerical features\n",
    "vectorizer = TfidfVectorizer(ngram_range=(1,2), max_features=30000)\n",
    "X_train_tfidf = vectorizer.fit_transform(X_train)\n",
    "X_test_tfidf = vectorizer.transform(X_test)\n",
    "\n",
    "print(f\"TF-IDF features shape: {X_train_tfidf.shape}\")"
   ]
  },
  {
   "cell_type": "code",
   "execution_count": 15,
   "metadata": {},
   "outputs": [
    {
     "name": "stdout",
     "output_type": "stream",
     "text": [
      "Training set class distribution before SMOTE (min: 2, max: 36)\n",
      "SMOTE successfully applied\n",
      "Training samples after SMOTE: 4032\n",
      "Class distribution after SMOTE (min: 36, max: 36)\n",
      "\n",
      "Sample generated training sentences after SMOTE:\n"
     ]
    },
    {
     "data": {
      "text/html": [
       "<div>\n",
       "<style scoped>\n",
       "    .dataframe tbody tr th:only-of-type {\n",
       "        vertical-align: middle;\n",
       "    }\n",
       "\n",
       "    .dataframe tbody tr th {\n",
       "        vertical-align: top;\n",
       "    }\n",
       "\n",
       "    .dataframe thead th {\n",
       "        text-align: right;\n",
       "    }\n",
       "</style>\n",
       "<table border=\"1\" class=\"dataframe\">\n",
       "  <thead>\n",
       "    <tr style=\"text-align: right;\">\n",
       "      <th></th>\n",
       "      <th>Sample #</th>\n",
       "      <th>Generated Sentence</th>\n",
       "      <th>Label</th>\n",
       "    </tr>\n",
       "  </thead>\n",
       "  <tbody>\n",
       "    <tr>\n",
       "      <th>0</th>\n",
       "      <td>1</td>\n",
       "      <td>annoyance annoyance composing composing compos...</td>\n",
       "      <td>Frustrated</td>\n",
       "    </tr>\n",
       "    <tr>\n",
       "      <th>1</th>\n",
       "      <td>2</td>\n",
       "      <td>block block path emotion escalates escalates t...</td>\n",
       "      <td>Frustration</td>\n",
       "    </tr>\n",
       "    <tr>\n",
       "      <th>2</th>\n",
       "      <td>3</td>\n",
       "      <td>appreciation appreciation casting bathed bathe...</td>\n",
       "      <td>Grateful</td>\n",
       "    </tr>\n",
       "    <tr>\n",
       "      <th>3</th>\n",
       "      <td>4</td>\n",
       "      <td>betrayal betrayal trust chamber chamber requie...</td>\n",
       "      <td>Devastated</td>\n",
       "    </tr>\n",
       "    <tr>\n",
       "      <th>4</th>\n",
       "      <td>5</td>\n",
       "      <td>carefree carefree spirit chasing chasing sunbe...</td>\n",
       "      <td>Zest</td>\n",
       "    </tr>\n",
       "  </tbody>\n",
       "</table>\n",
       "</div>"
      ],
      "text/plain": [
       "   Sample #                                 Generated Sentence        Label\n",
       "0         1  annoyance annoyance composing composing compos...   Frustrated\n",
       "1         2  block block path emotion escalates escalates t...  Frustration\n",
       "2         3  appreciation appreciation casting bathed bathe...     Grateful\n",
       "3         4  betrayal betrayal trust chamber chamber requie...   Devastated\n",
       "4         5  carefree carefree spirit chasing chasing sunbe...         Zest"
      ]
     },
     "metadata": {},
     "output_type": "display_data"
    }
   ],
   "source": [
    "# Apply SMOTE ONLY to the training data to reduce the class imbalance\n",
    "class_counts_train = np.bincount(y_train)\n",
    "print(f\"Training set class distribution before SMOTE (min: {min(class_counts_train)}, max: {max(class_counts_train)})\")\n",
    "\n",
    "try:\n",
    "    smote = SMOTE(random_state=42, k_neighbors=1, sampling_strategy='not majority')\n",
    "    X_train_resampled, y_train_resampled = smote.fit_resample(X_train_tfidf, y_train)\n",
    "    print(\"SMOTE successfully applied\")\n",
    "    print(f\"Training samples after SMOTE: {X_train_resampled.shape[0]}\")\n",
    "    unique, counts = np.unique(y_train_resampled, return_counts=True)\n",
    "    print(f\"Class distribution after SMOTE (min: {min(counts)}, max: {max(counts)})\")\n",
    "\n",
    "except Exception as e:\n",
    "    print(f\"Error applying SMOTE: {e}\")\n",
    "    print(\"Continuing without SMOTE\")\n",
    "    X_train_resampled, y_train_resampled = X_train_tfidf, y_train\n",
    "\n",
    "# Convert sparse matrix to dense format before accessing samples\n",
    "X_train_resampled_duplicate = X_train_resampled.copy()\n",
    "if hasattr(X_train_resampled_duplicate, \"toarray\"):\n",
    "    X_train_resampled_duplicate = X_train_resampled_duplicate.toarray()\n",
    "\n",
    "# sentences after SMOTE\n",
    "print(\"\\nSample generated training sentences after SMOTE:\")\n",
    "samples = []\n",
    "for i in range(5):\n",
    "    original_index = np.random.randint(0, X_train_resampled_duplicate.shape[0])\n",
    "    sample_vector = X_train_resampled_duplicate[original_index].reshape(1, -1)\n",
    "    reconstructed_text = vectorizer.inverse_transform(sample_vector)\n",
    "    sentence = ' '.join(reconstructed_text[0])\n",
    "    label_encoded = y_train_resampled[original_index]\n",
    "    label_value = label_encoder.inverse_transform([label_encoded])[0]\n",
    "    \n",
    "    samples.append([i + 1, sentence, label_value])\n",
    "\n",
    "df_samples = pd.DataFrame(samples, columns=[\"Sample #\", \"Generated Sentence\", \"Label\"])\n",
    "display(df_samples) "
   ]
  },
  {
   "cell_type": "code",
   "execution_count": 16,
   "metadata": {},
   "outputs": [],
   "source": [
    "# Convert to PyTorch tensors\n",
    "X_train_tensor = torch.FloatTensor(X_train_resampled.toarray())\n",
    "X_test_tensor = torch.FloatTensor(X_test_tfidf.toarray())\n",
    "y_train_tensor = torch.LongTensor(y_train_resampled)\n",
    "y_test_tensor = torch.LongTensor(y_test)\n",
    "\n",
    "# Create PyTorch datasets and dataloaders\n",
    "train_dataset = TensorDataset(X_train_tensor, y_train_tensor)\n",
    "test_dataset = TensorDataset(X_test_tensor, y_test_tensor)\n",
    "\n",
    "# Use a smaller batch size for many classes\n",
    "batch_size = 32\n",
    "train_loader = DataLoader(train_dataset, batch_size=batch_size, shuffle=True)\n",
    "test_loader = DataLoader(test_dataset, batch_size=batch_size, shuffle=False)"
   ]
  },
  {
   "cell_type": "code",
   "execution_count": 17,
   "metadata": {},
   "outputs": [],
   "source": [
    "# Define an improved PyTorch model(3-layer mlp 1024->512->512) with batch normalization\n",
    "class SentimentClassifier(nn.Module):\n",
    "    def __init__(self, input_dim, num_classes, dropout_rate=0.3):\n",
    "        super(SentimentClassifier, self).__init__()\n",
    "        self.dropout_rate = dropout_rate\n",
    "        \n",
    "        # fully connected layers\n",
    "        self.fc1 = nn.Linear(input_dim, 1024)\n",
    "        self.bn1 = nn.BatchNorm1d(1024)\n",
    "\n",
    "        self.fc2 = nn.Linear(1024, 512)\n",
    "        self.bn2 = nn.BatchNorm1d(512)\n",
    "        \n",
    "        # Output layer\n",
    "        self.fc3 = nn.Linear(512, num_classes)\n",
    "        \n",
    "        # Dropout and activation\n",
    "        self.dropout = nn.Dropout(dropout_rate)\n",
    "        self.relu = nn.ReLU()\n",
    "    \n",
    "    def forward(self, x):\n",
    "        # layers with batch norm, activation, and dropout\n",
    "        x = self.fc1(x)\n",
    "        x = self.bn1(x)\n",
    "        x = self.relu(x)\n",
    "        x = self.dropout(x)\n",
    "        \n",
    "        x = self.fc2(x)\n",
    "        x = self.bn2(x)\n",
    "        x = self.relu(x)\n",
    "        x = self.dropout(x)\n",
    "        \n",
    "        # Output layer\n",
    "        x = self.fc3(x)\n",
    "        return x"
   ]
  },
  {
   "cell_type": "code",
   "execution_count": 18,
   "metadata": {},
   "outputs": [
    {
     "name": "stdout",
     "output_type": "stream",
     "text": [
      "Using device: cpu\n",
      "Building model with 5083 input features and 112 output classes\n"
     ]
    },
    {
     "name": "stderr",
     "output_type": "stream",
     "text": [
      "C:\\Users\\bajor\\AppData\\Local\\Packages\\PythonSoftwareFoundation.Python.3.11_qbz5n2kfra8p0\\LocalCache\\local-packages\\Python311\\site-packages\\torch\\optim\\lr_scheduler.py:62: UserWarning: The verbose parameter is deprecated. Please use get_last_lr() to access the learning rate.\n",
      "  warnings.warn(\n"
     ]
    }
   ],
   "source": [
    "# Set device\n",
    "device = torch.device('cuda' if torch.cuda.is_available() else 'cpu')\n",
    "print(f\"Using device: {device}\")\n",
    "\n",
    "# Initialize model, loss function, and optimizer\n",
    "input_dim = X_train_tensor.shape[1]\n",
    "num_classes = len(np.unique(y_train_resampled))\n",
    "print(f\"Building model with {input_dim} input features and {num_classes} output classes\")\n",
    "\n",
    "model = SentimentClassifier(input_dim, num_classes, dropout_rate=0.3).to(device)\n",
    "criterion = nn.CrossEntropyLoss()\n",
    "optimizer = optim.Adam(model.parameters(), lr=0.001, weight_decay=1e-4)\n",
    "scheduler = optim.lr_scheduler.ReduceLROnPlateau(optimizer, 'min', patience=3, factor=0.5, verbose=True)"
   ]
  },
  {
   "cell_type": "code",
   "execution_count": 19,
   "metadata": {},
   "outputs": [],
   "source": [
    "# Training function\n",
    "def train(model, train_loader, criterion, optimizer, device):\n",
    "    model.train()\n",
    "    running_loss = 0.0\n",
    "    correct = 0\n",
    "    total = 0\n",
    "    \n",
    "    for inputs, labels in train_loader:\n",
    "        inputs, labels = inputs.to(device), labels.to(device)\n",
    "        optimizer.zero_grad()\n",
    "        outputs = model(inputs)\n",
    "        loss = criterion(outputs, labels)\n",
    "        loss.backward()\n",
    "        torch.nn.utils.clip_grad_norm_(model.parameters(), max_norm=1.0)\n",
    "        optimizer.step()\n",
    "        running_loss += loss.item() * inputs.size(0)\n",
    "        _, predicted = torch.max(outputs, 1)\n",
    "        total += labels.size(0)\n",
    "        correct += (predicted == labels).sum().item()\n",
    "    \n",
    "    return running_loss / total, correct / total"
   ]
  },
  {
   "cell_type": "code",
   "execution_count": 20,
   "metadata": {},
   "outputs": [],
   "source": [
    "# Evaluation function\n",
    "def evaluate(model, data_loader, criterion, device):\n",
    "    model.eval()\n",
    "    running_loss = 0.0\n",
    "    correct = 0\n",
    "    total = 0\n",
    "    all_preds = []\n",
    "    all_labels = []\n",
    "    \n",
    "    with torch.no_grad():\n",
    "        for inputs, labels in data_loader:\n",
    "            inputs, labels = inputs.to(device), labels.to(device)\n",
    "            outputs = model(inputs)\n",
    "            loss = criterion(outputs, labels)\n",
    "            running_loss += loss.item() * inputs.size(0)\n",
    "            _, predicted = torch.max(outputs, 1)\n",
    "            total += labels.size(0)\n",
    "            correct += (predicted == labels).sum().item()\n",
    "            all_preds.extend(predicted.cpu().numpy())\n",
    "            all_labels.extend(labels.cpu().numpy())\n",
    "    \n",
    "    return running_loss / total, correct / total, all_preds, all_labels"
   ]
  },
  {
   "cell_type": "code",
   "execution_count": 21,
   "metadata": {},
   "outputs": [
    {
     "name": "stdout",
     "output_type": "stream",
     "text": [
      "Epoch 1/500, Train Loss: 0.7208, Train Acc: 0.8963, Val Loss: 2.3984, Val Acc: 0.4809\n",
      "Model saved at epoch 1 with validation accuracy: 0.4809\n",
      "Epoch 2/500, Train Loss: 0.0143, Train Acc: 0.9975, Val Loss: 2.7333, Val Acc: 0.5191\n",
      "Model saved at epoch 2 with validation accuracy: 0.5191\n",
      "Epoch 3/500, Train Loss: 0.0065, Train Acc: 0.9993, Val Loss: 2.5802, Val Acc: 0.4809\n",
      "Epoch 4/500, Train Loss: 0.0032, Train Acc: 0.9998, Val Loss: 2.5518, Val Acc: 0.5267\n",
      "Model saved at epoch 4 with validation accuracy: 0.5267\n",
      "Epoch 5/500, Train Loss: 0.0045, Train Acc: 0.9995, Val Loss: 2.3070, Val Acc: 0.5267\n",
      "Epoch 6/500, Train Loss: 0.0020, Train Acc: 1.0000, Val Loss: 2.2651, Val Acc: 0.5649\n",
      "Model saved at epoch 6 with validation accuracy: 0.5649\n",
      "Epoch 7/500, Train Loss: 0.0042, Train Acc: 0.9998, Val Loss: 2.2512, Val Acc: 0.5954\n",
      "Model saved at epoch 7 with validation accuracy: 0.5954\n",
      "Epoch 8/500, Train Loss: 0.0057, Train Acc: 0.9998, Val Loss: 2.1347, Val Acc: 0.5802\n",
      "Epoch 9/500, Train Loss: 0.0053, Train Acc: 0.9995, Val Loss: 2.2854, Val Acc: 0.5573\n",
      "Epoch 10/500, Train Loss: 0.0435, Train Acc: 0.9948, Val Loss: 2.4798, Val Acc: 0.5420\n",
      "Epoch 11/500, Train Loss: 0.0169, Train Acc: 0.9960, Val Loss: 2.6571, Val Acc: 0.5420\n",
      "Epoch 12/500, Train Loss: 0.0066, Train Acc: 0.9988, Val Loss: 2.5433, Val Acc: 0.5344\n",
      "Epoch 13/500, Train Loss: 0.0021, Train Acc: 0.9998, Val Loss: 2.3646, Val Acc: 0.5649\n",
      "Epoch 14/500, Train Loss: 0.0009, Train Acc: 1.0000, Val Loss: 2.2658, Val Acc: 0.5802\n",
      "Epoch 15/500, Train Loss: 0.0009, Train Acc: 1.0000, Val Loss: 2.1611, Val Acc: 0.6031\n",
      "Model saved at epoch 15 with validation accuracy: 0.6031\n",
      "Epoch 16/500, Train Loss: 0.0010, Train Acc: 1.0000, Val Loss: 2.1582, Val Acc: 0.6031\n",
      "Epoch 17/500, Train Loss: 0.0009, Train Acc: 1.0000, Val Loss: 2.1085, Val Acc: 0.6031\n",
      "Epoch 18/500, Train Loss: 0.0011, Train Acc: 1.0000, Val Loss: 2.0956, Val Acc: 0.6031\n",
      "Epoch 19/500, Train Loss: 0.0010, Train Acc: 1.0000, Val Loss: 2.0908, Val Acc: 0.6031\n",
      "Epoch 20/500, Train Loss: 0.0012, Train Acc: 1.0000, Val Loss: 2.0522, Val Acc: 0.6107\n",
      "Model saved at epoch 20 with validation accuracy: 0.6107\n",
      "Epoch 21/500, Train Loss: 0.0013, Train Acc: 1.0000, Val Loss: 2.0432, Val Acc: 0.6107\n",
      "Epoch 22/500, Train Loss: 0.0012, Train Acc: 1.0000, Val Loss: 2.0531, Val Acc: 0.6107\n",
      "Epoch 23/500, Train Loss: 0.0013, Train Acc: 1.0000, Val Loss: 2.0619, Val Acc: 0.6031\n",
      "Epoch 24/500, Train Loss: 0.0013, Train Acc: 1.0000, Val Loss: 2.0180, Val Acc: 0.6031\n",
      "Epoch 25/500, Train Loss: 0.0014, Train Acc: 1.0000, Val Loss: 2.0091, Val Acc: 0.6183\n",
      "Model saved at epoch 25 with validation accuracy: 0.6183\n",
      "Epoch 26/500, Train Loss: 0.0014, Train Acc: 1.0000, Val Loss: 2.0010, Val Acc: 0.6183\n",
      "Epoch 27/500, Train Loss: 0.0016, Train Acc: 1.0000, Val Loss: 2.0014, Val Acc: 0.6260\n",
      "Model saved at epoch 27 with validation accuracy: 0.6260\n",
      "Epoch 28/500, Train Loss: 0.0015, Train Acc: 1.0000, Val Loss: 1.9975, Val Acc: 0.6107\n",
      "Epoch 29/500, Train Loss: 0.0015, Train Acc: 1.0000, Val Loss: 1.9652, Val Acc: 0.6260\n",
      "Epoch 30/500, Train Loss: 0.0017, Train Acc: 1.0000, Val Loss: 1.9558, Val Acc: 0.6412\n",
      "Model saved at epoch 30 with validation accuracy: 0.6412\n",
      "Epoch 31/500, Train Loss: 0.0017, Train Acc: 1.0000, Val Loss: 1.9462, Val Acc: 0.6336\n",
      "Epoch 32/500, Train Loss: 0.0016, Train Acc: 1.0000, Val Loss: 1.9025, Val Acc: 0.6412\n",
      "Epoch 33/500, Train Loss: 0.0017, Train Acc: 1.0000, Val Loss: 1.8679, Val Acc: 0.6260\n",
      "Epoch 34/500, Train Loss: 0.0018, Train Acc: 1.0000, Val Loss: 1.8936, Val Acc: 0.6107\n",
      "Epoch 35/500, Train Loss: 0.0017, Train Acc: 1.0000, Val Loss: 1.9020, Val Acc: 0.6260\n",
      "Epoch 36/500, Train Loss: 0.0019, Train Acc: 1.0000, Val Loss: 1.7979, Val Acc: 0.6336\n",
      "Epoch 37/500, Train Loss: 0.0020, Train Acc: 1.0000, Val Loss: 1.7799, Val Acc: 0.6412\n",
      "Epoch 38/500, Train Loss: 0.0021, Train Acc: 1.0000, Val Loss: 1.7985, Val Acc: 0.5954\n",
      "Epoch 39/500, Train Loss: 0.0026, Train Acc: 1.0000, Val Loss: 1.8899, Val Acc: 0.6031\n",
      "Epoch 40/500, Train Loss: 0.0041, Train Acc: 1.0000, Val Loss: 1.8991, Val Acc: 0.6107\n",
      "Epoch 41/500, Train Loss: 0.0019, Train Acc: 1.0000, Val Loss: 1.9484, Val Acc: 0.6031\n",
      "Epoch 42/500, Train Loss: 0.0015, Train Acc: 1.0000, Val Loss: 1.9438, Val Acc: 0.5954\n",
      "Epoch 43/500, Train Loss: 0.0013, Train Acc: 1.0000, Val Loss: 1.8774, Val Acc: 0.6107\n",
      "Epoch 44/500, Train Loss: 0.0012, Train Acc: 1.0000, Val Loss: 1.8826, Val Acc: 0.6107\n",
      "Epoch 45/500, Train Loss: 0.0015, Train Acc: 1.0000, Val Loss: 1.8725, Val Acc: 0.6336\n",
      "Epoch 46/500, Train Loss: 0.0014, Train Acc: 1.0000, Val Loss: 1.8109, Val Acc: 0.6336\n",
      "Epoch 47/500, Train Loss: 0.0013, Train Acc: 1.0000, Val Loss: 1.8182, Val Acc: 0.6183\n",
      "Epoch 48/500, Train Loss: 0.0014, Train Acc: 1.0000, Val Loss: 1.7948, Val Acc: 0.6260\n",
      "Epoch 49/500, Train Loss: 0.0014, Train Acc: 1.0000, Val Loss: 1.7621, Val Acc: 0.6336\n",
      "Epoch 50/500, Train Loss: 0.0014, Train Acc: 1.0000, Val Loss: 1.7994, Val Acc: 0.6183\n",
      "Epoch 51/500, Train Loss: 0.0015, Train Acc: 1.0000, Val Loss: 1.8099, Val Acc: 0.6260\n",
      "Epoch 52/500, Train Loss: 0.0015, Train Acc: 1.0000, Val Loss: 1.7931, Val Acc: 0.6107\n",
      "Epoch 53/500, Train Loss: 0.0015, Train Acc: 1.0000, Val Loss: 1.7533, Val Acc: 0.6107\n",
      "Epoch 54/500, Train Loss: 0.0016, Train Acc: 1.0000, Val Loss: 1.7549, Val Acc: 0.6260\n",
      "Epoch 55/500, Train Loss: 0.0016, Train Acc: 1.0000, Val Loss: 1.7638, Val Acc: 0.6260\n",
      "Epoch 56/500, Train Loss: 0.0017, Train Acc: 1.0000, Val Loss: 1.7347, Val Acc: 0.6336\n",
      "Epoch 57/500, Train Loss: 0.0017, Train Acc: 1.0000, Val Loss: 1.7652, Val Acc: 0.6260\n",
      "Epoch 58/500, Train Loss: 0.0017, Train Acc: 1.0000, Val Loss: 1.7382, Val Acc: 0.6260\n",
      "Epoch 59/500, Train Loss: 0.0017, Train Acc: 1.0000, Val Loss: 1.7118, Val Acc: 0.6260\n",
      "Epoch 60/500, Train Loss: 0.0017, Train Acc: 1.0000, Val Loss: 1.6880, Val Acc: 0.6260\n",
      "Epoch 61/500, Train Loss: 0.0018, Train Acc: 1.0000, Val Loss: 1.7092, Val Acc: 0.6412\n",
      "Epoch 62/500, Train Loss: 0.0017, Train Acc: 1.0000, Val Loss: 1.7800, Val Acc: 0.6336\n",
      "Epoch 63/500, Train Loss: 0.0017, Train Acc: 1.0000, Val Loss: 1.7444, Val Acc: 0.6260\n",
      "Epoch 64/500, Train Loss: 0.0017, Train Acc: 1.0000, Val Loss: 1.7443, Val Acc: 0.6260\n",
      "Epoch 65/500, Train Loss: 0.0017, Train Acc: 1.0000, Val Loss: 1.7420, Val Acc: 0.6260\n",
      "Epoch 66/500, Train Loss: 0.0016, Train Acc: 1.0000, Val Loss: 1.7466, Val Acc: 0.6260\n",
      "Epoch 67/500, Train Loss: 0.0015, Train Acc: 1.0000, Val Loss: 1.7616, Val Acc: 0.6260\n",
      "Epoch 68/500, Train Loss: 0.0016, Train Acc: 1.0000, Val Loss: 1.7371, Val Acc: 0.6260\n",
      "Epoch 69/500, Train Loss: 0.0016, Train Acc: 1.0000, Val Loss: 1.7541, Val Acc: 0.6260\n",
      "Epoch 70/500, Train Loss: 0.0015, Train Acc: 1.0000, Val Loss: 1.7372, Val Acc: 0.6336\n",
      "Epoch 71/500, Train Loss: 0.0015, Train Acc: 1.0000, Val Loss: 1.7283, Val Acc: 0.6260\n",
      "Epoch 72/500, Train Loss: 0.0016, Train Acc: 1.0000, Val Loss: 1.7480, Val Acc: 0.6260\n",
      "Epoch 73/500, Train Loss: 0.0016, Train Acc: 1.0000, Val Loss: 1.7505, Val Acc: 0.6336\n",
      "Epoch 74/500, Train Loss: 0.0015, Train Acc: 1.0000, Val Loss: 1.7498, Val Acc: 0.6336\n",
      "Epoch 75/500, Train Loss: 0.0014, Train Acc: 1.0000, Val Loss: 1.7386, Val Acc: 0.6260\n",
      "Epoch 76/500, Train Loss: 0.0014, Train Acc: 1.0000, Val Loss: 1.7328, Val Acc: 0.6260\n",
      "Epoch 77/500, Train Loss: 0.0015, Train Acc: 1.0000, Val Loss: 1.7337, Val Acc: 0.6336\n",
      "Epoch 78/500, Train Loss: 0.0015, Train Acc: 1.0000, Val Loss: 1.7212, Val Acc: 0.6260\n",
      "Epoch 79/500, Train Loss: 0.0015, Train Acc: 1.0000, Val Loss: 1.7452, Val Acc: 0.6260\n",
      "Epoch 80/500, Train Loss: 0.0016, Train Acc: 1.0000, Val Loss: 1.7326, Val Acc: 0.6260\n",
      "Early stopping after 50 epochs without improvement\n"
     ]
    }
   ],
   "source": [
    "# Training loop with early stopping\n",
    "num_epochs = 500\n",
    "best_accuracy = 0.0\n",
    "patience = 50\n",
    "no_improvement = 0\n",
    "\n",
    "try:\n",
    "    for epoch in range(num_epochs):\n",
    "        train_loss, train_acc = train(model, train_loader, criterion, optimizer, device)\n",
    "        val_loss, val_acc, _, _ = evaluate(model, test_loader, criterion, device)\n",
    "        \n",
    "        # Learning rate scheduler based on validation loss\n",
    "        scheduler.step(val_loss)\n",
    "        \n",
    "        print(f'Epoch {epoch+1}/{num_epochs}, Train Loss: {train_loss:.4f}, Train Acc: {train_acc:.4f}, Val Loss: {val_loss:.4f}, Val Acc: {val_acc:.4f}')\n",
    "        \n",
    "        # Saving best model and check for early stopping\n",
    "        if val_acc > best_accuracy:\n",
    "            best_accuracy = val_acc\n",
    "            torch.save({\n",
    "                'epoch': epoch,\n",
    "                'model_state_dict': model.state_dict(),\n",
    "                'optimizer_state_dict': optimizer.state_dict(),\n",
    "                'accuracy': val_acc,\n",
    "                'label_encoder': label_encoder\n",
    "            }, 'best_sentiment_model.pth')\n",
    "            print(f'Model saved at epoch {epoch+1} with validation accuracy: {val_acc:.4f}')\n",
    "            no_improvement = 0\n",
    "        else:\n",
    "            no_improvement += 1\n",
    "            if no_improvement == patience:\n",
    "                print(f'Early stopping after {patience} epochs without improvement')\n",
    "                break\n",
    "\n",
    "except KeyboardInterrupt:\n",
    "    print(\"Training interrupted!\")"
   ]
  },
  {
   "cell_type": "code",
   "execution_count": 22,
   "metadata": {},
   "outputs": [
    {
     "name": "stdout",
     "output_type": "stream",
     "text": [
      "Loaded best model from epoch 30 with validation accuracy: 0.6412\n"
     ]
    }
   ],
   "source": [
    "# Loading the best model for final evaluation\n",
    "torch.serialization.add_safe_globals([LabelEncoder, np.core.multiarray._reconstruct])\n",
    "checkpoint = torch.load('best_sentiment_model.pth', weights_only=False) # Explicitly set weights_only=False\n",
    "model.load_state_dict(checkpoint['model_state_dict'])\n",
    "print(f\"Loaded best model from epoch {checkpoint['epoch']+1} with validation accuracy: {checkpoint['accuracy']:.4f}\")\n"
   ]
  },
  {
   "cell_type": "markdown",
   "metadata": {},
   "source": [
    "#### Final Evaluation"
   ]
  },
  {
   "cell_type": "code",
   "execution_count": 23,
   "metadata": {},
   "outputs": [
    {
     "name": "stdout",
     "output_type": "stream",
     "text": [
      "\n",
      "Final Test Accuracy: 0.6412\n",
      "Classification Report:\n",
      "               precision    recall  f1-score   support\n",
      "\n",
      "           0       1.00      1.00      1.00         2\n",
      "           1       0.00      0.00      0.00         1\n",
      "           2       1.00      0.00      0.00         1\n",
      "           4       1.00      0.00      0.00         1\n",
      "           6       1.00      1.00      1.00         1\n",
      "           7       1.00      1.00      1.00         1\n",
      "           9       1.00      0.00      0.00         1\n",
      "          12       1.00      1.00      1.00         1\n",
      "          13       0.50      0.50      0.50         2\n",
      "          14       1.00      1.00      1.00         1\n",
      "          15       0.33      1.00      0.50         1\n",
      "          16       1.00      1.00      1.00         1\n",
      "          17       0.00      0.00      0.00         1\n",
      "          18       1.00      0.00      0.00         1\n",
      "          19       1.00      1.00      1.00         1\n",
      "          21       1.00      1.00      1.00         1\n",
      "          22       1.00      1.00      1.00         1\n",
      "          23       1.00      1.00      1.00         1\n",
      "          24       1.00      1.00      1.00         2\n",
      "          26       0.50      1.00      0.67         4\n",
      "          28       1.00      0.00      0.00         1\n",
      "          29       0.40      0.67      0.50         3\n",
      "          30       1.00      0.00      0.00         1\n",
      "          31       1.00      1.00      1.00         2\n",
      "          32       0.50      1.00      0.67         1\n",
      "          33       1.00      0.00      0.00         1\n",
      "          36       1.00      1.00      1.00         1\n",
      "          37       1.00      1.00      1.00         1\n",
      "          38       1.00      1.00      1.00         1\n",
      "          39       1.00      0.50      0.67         2\n",
      "          41       1.00      1.00      1.00         1\n",
      "          42       1.00      1.00      1.00         1\n",
      "          43       1.00      0.00      0.00         1\n",
      "          45       0.00      0.00      0.00         1\n",
      "          46       1.00      0.00      0.00         1\n",
      "          47       0.00      1.00      0.00         0\n",
      "          48       1.00      1.00      1.00         1\n",
      "          49       0.50      0.50      0.50         8\n",
      "          52       1.00      1.00      1.00         1\n",
      "          53       1.00      1.00      1.00         1\n",
      "          54       1.00      1.00      1.00         1\n",
      "          55       1.00      0.00      0.00         1\n",
      "          56       1.00      1.00      1.00         1\n",
      "          57       1.00      0.00      0.00         1\n",
      "          58       0.67      0.50      0.57         4\n",
      "          59       1.00      1.00      1.00         2\n",
      "          60       1.00      1.00      1.00         1\n",
      "          61       0.00      0.00      0.00         3\n",
      "          62       1.00      1.00      1.00         1\n",
      "          63       0.50      1.00      0.67         1\n",
      "          64       1.00      0.00      0.00         1\n",
      "          66       1.00      0.00      0.00         1\n",
      "          67       1.00      1.00      1.00         2\n",
      "          68       1.00      1.00      1.00         1\n",
      "          69       1.00      0.00      0.00         1\n",
      "          70       0.50      1.00      0.67         1\n",
      "          73       1.00      0.00      0.00         1\n",
      "          74       1.00      0.00      0.00         1\n",
      "          75       0.47      0.89      0.62         9\n",
      "          76       1.00      1.00      1.00         1\n",
      "          77       1.00      1.00      1.00         2\n",
      "          78       0.00      1.00      0.00         0\n",
      "          79       1.00      0.00      0.00         1\n",
      "          80       1.00      0.00      0.00         1\n",
      "          82       1.00      0.00      0.00         1\n",
      "          83       1.00      0.50      0.67         4\n",
      "          84       0.67      1.00      0.80         2\n",
      "          85       1.00      1.00      1.00         1\n",
      "          86       1.00      1.00      1.00         1\n",
      "          87       1.00      1.00      1.00         1\n",
      "          88       0.43      0.67      0.52         9\n",
      "          89       0.00      0.00      0.00         1\n",
      "          90       1.00      0.00      0.00         1\n",
      "          92       1.00      0.00      0.00         1\n",
      "          93       1.00      1.00      1.00         1\n",
      "          95       1.00      1.00      1.00         1\n",
      "          97       1.00      1.00      1.00         1\n",
      "          98       0.50      0.50      0.50         2\n",
      "         100       1.00      0.00      0.00         1\n",
      "         101       1.00      0.67      0.80         3\n",
      "         102       1.00      1.00      1.00         1\n",
      "         104       1.00      1.00      1.00         1\n",
      "         105       1.00      1.00      1.00         1\n",
      "         106       1.00      0.00      0.00         1\n",
      "         109       1.00      1.00      1.00         1\n",
      "\n",
      "    accuracy                           0.64       131\n",
      "   macro avg       0.84      0.62      0.57       131\n",
      "weighted avg       0.76      0.64      0.60       131\n",
      "\n",
      "Confusion matrix saved to 'confusion_matrix.png'\n"
     ]
    },
    {
     "data": {
      "image/png": "[encoded data removed]",
      "text/plain": [
       "<Figure size 1000x800 with 2 Axes>"
      ]
     },
     "metadata": {},
     "output_type": "display_data"
    }
   ],
   "source": [
    "# Final evaluation on test set\n",
    "test_loss, test_acc, all_preds, all_labels = evaluate(model, test_loader, criterion, device)\n",
    "print(f\"\\nFinal Test Accuracy: {test_acc:.4f}\")\n",
    "print(\"Classification Report:\\n\", classification_report(all_labels, all_preds, zero_division=1))\n",
    "\n",
    "# Converting numeric predictions back to original sentiment labels\n",
    "predicted_classes = label_encoder.inverse_transform(all_preds)\n",
    "true_classes = label_encoder.inverse_transform(all_labels)\n",
    "\n",
    "try:\n",
    "    # Get most frequent classes\n",
    "    top_class_indices = np.argsort(np.bincount(all_labels))[-10:]  # Top 10 classes\n",
    "    mask = np.isin(all_labels, top_class_indices)\n",
    "    \n",
    "    if np.sum(mask) > 0:  # If we have any samples from top classes\n",
    "        cm = confusion_matrix(\n",
    "            [true_classes[i] for i in range(len(true_classes)) if mask[i]],\n",
    "            [predicted_classes[i] for i in range(len(predicted_classes)) if mask[i]]\n",
    "        )\n",
    "        \n",
    "        plt.figure(figsize=(10, 8))\n",
    "        sns.heatmap(cm, annot=True, fmt='d', cmap='Blues',\n",
    "                   xticklabels=[label_encoder.inverse_transform([i])[0] for i in top_class_indices],\n",
    "                   yticklabels=[label_encoder.inverse_transform([i])[0] for i in top_class_indices])\n",
    "        plt.xlabel('Predicted')\n",
    "        plt.ylabel('True')\n",
    "        plt.title('Confusion Matrix for Top Classes')\n",
    "        plt.tight_layout()\n",
    "        plt.savefig('confusion_matrix.png')\n",
    "        print(\"Confusion matrix saved to 'confusion_matrix.png'\")\n",
    "except ImportError:\n",
    "    print(\"Matplotlib or seaborn not available for confusion matrix visualization\")\n"
   ]
  },
  {
   "cell_type": "markdown",
   "metadata": {},
   "source": [
    "#### Custom Test Sentences"
   ]
  },
  {
   "cell_type": "code",
   "execution_count": null,
   "metadata": {},
   "outputs": [
    {
     "name": "stdout",
     "output_type": "stream",
     "text": [
      "\n",
      "Example prediction function:\n",
      "predict_sentiment('I love this product!', model, vectorizer, label_encoder, device)\n"
     ]
    }
   ],
   "source": [
    "# Function to predict sentiment for new text\n",
    "def predict_sentiment(text, model, vectorizer, label_encoder, device):\n",
    "    processed_text = preprocess_text(text)\n",
    "    text_tfidf = vectorizer.transform([processed_text]).toarray()\n",
    "    text_tensor = torch.FloatTensor(text_tfidf).to(device)\n",
    "    model.eval()\n",
    "    with torch.no_grad():\n",
    "        outputs = model(text_tensor)\n",
    "        _, predicted = torch.max(outputs, 1)\n",
    "    predicted_sentiment = label_encoder.inverse_transform(predicted.cpu().numpy())[0]\n",
    "    \n",
    "    return predicted_sentiment\n",
    "\n",
    "# Example of prediction function usage\n",
    "print(\"\\nExample prediction function:\")\n",
    "print(\"predict_sentiment('I love this product!', model, vectorizer, label_encoder, device)\")"
   ]
  }
 ],
 "metadata": {
  "kernelspec": {
   "display_name": "Python 3",
   "language": "python",
   "name": "python3"
  },
  "language_info": {
   "codemirror_mode": {
    "name": "ipython",
    "version": 3
   },
   "file_extension": ".py",
   "mimetype": "text/x-python",
   "name": "python",
   "nbconvert_exporter": "python",
   "pygments_lexer": "ipython3",
   "version": "3.11.9"
  }
 },
 "nbformat": 4,
 "nbformat_minor": 4
}
