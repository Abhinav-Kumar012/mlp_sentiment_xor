{
  "cells": [
    {
      "cell_type": "code",
      "execution_count": 378,
      "metadata": {
        "id": "TpgSMwlpeaB6"
      },
      "outputs": [],
      "source": [
        "import numpy as np\n",
        "import pandas as pd\n",
        "from sklearn.model_selection import train_test_split, KFold, StratifiedKFold\n",
        "from sklearn.preprocessing import LabelEncoder, StandardScaler, OneHotEncoder\n",
        "from sklearn.feature_extraction.text import TfidfVectorizer\n",
        "from sklearn.metrics import classification_report, accuracy_score, f1_score\n",
        "from sklearn.compose import ColumnTransformer\n",
        "from sklearn.pipeline import Pipeline\n",
        "from sklearn.impute import SimpleImputer\n",
        "from imblearn.over_sampling import SMOTE\n",
        "from datetime import datetime\n",
        "\n",
        "import re\n",
        "import time\n",
        "\n",
        "import nltk\n",
        "from nltk.corpus import stopwords\n",
        "from nltk.stem import WordNetLemmatizer\n",
        "from nltk.sentiment.vader import SentimentIntensityAnalyzer\n",
        "\n",
        "import torch\n",
        "import torch.nn as nn\n",
        "import torch.optim as optim\n",
        "from torch.utils.data import TensorDataset, DataLoader\n",
        "from sklearn.feature_extraction.text import ENGLISH_STOP_WORDS\n",
        "\n",
        "from scipy.spatial.distance import pdist, squareform\n",
        "from scipy.cluster.hierarchy import linkage, fcluster"
      ]
    },
    {
      "cell_type": "code",
      "execution_count": 379,
      "metadata": {
        "id": "I0412MPheaB8",
        "colab": {
          "base_uri": "https://localhost:8080/"
        },
        "outputId": "c72f05a2-17c4-411c-ca09-8ec4977d9548"
      },
      "outputs": [
        {
          "output_type": "stream",
          "name": "stderr",
          "text": [
            "[nltk_data] Downloading package stopwords to /root/nltk_data...\n",
            "[nltk_data]   Package stopwords is already up-to-date!\n",
            "[nltk_data] Downloading package punkt_tab to /root/nltk_data...\n",
            "[nltk_data]   Package punkt_tab is already up-to-date!\n",
            "[nltk_data] Downloading package wordnet to /root/nltk_data...\n",
            "[nltk_data]   Package wordnet is already up-to-date!\n",
            "[nltk_data] Downloading package vader_lexicon to /root/nltk_data...\n",
            "[nltk_data]   Package vader_lexicon is already up-to-date!\n"
          ]
        },
        {
          "output_type": "execute_result",
          "data": {
            "text/plain": [
              "True"
            ]
          },
          "metadata": {},
          "execution_count": 379
        }
      ],
      "source": [
        "# Download necessary resources\n",
        "nltk.download('stopwords')\n",
        "nltk.download('punkt_tab')\n",
        "nltk.download('wordnet')\n",
        "nltk.download('vader_lexicon')"
      ]
    },
    {
      "cell_type": "code",
      "source": [
        "# Set random seeds for reproducibility\n",
        "np.random.seed(42)\n",
        "torch.manual_seed(42)\n",
        "if torch.cuda.is_available():\n",
        "    torch.cuda.manual_seed_all(42)\n",
        "\n",
        "# Load dataset\n",
        "df = pd.read_csv(\"/content/sentimentdataset.csv\")"
      ],
      "metadata": {
        "id": "FnaYaFXmgGNq"
      },
      "execution_count": 380,
      "outputs": []
    },
    {
      "cell_type": "code",
      "source": [
        "def preprocess_text(text):\n",
        "    # Lowercasing\n",
        "    text = text.lower()\n",
        "\n",
        "    # Remove URLs\n",
        "    text = re.sub(r'http\\S+', '', text)\n",
        "\n",
        "    # Tokenization\n",
        "    tokens = nltk.word_tokenize(text)\n",
        "\n",
        "    # Remove stopwords\n",
        "    stop_words = set(stopwords.words('english')) | ENGLISH_STOP_WORDS\n",
        "    tokens = [word for word in tokens if word not in stop_words]\n",
        "\n",
        "    # Lemmatization\n",
        "    lemmatizer = WordNetLemmatizer()\n",
        "    tokens = [lemmatizer.lemmatize(word) for word in tokens]\n",
        "\n",
        "    return ' '.join(tokens)"
      ],
      "metadata": {
        "id": "u5AgKRGN9rCc"
      },
      "execution_count": 381,
      "outputs": []
    },
    {
      "cell_type": "code",
      "source": [
        "def extract_nlp_features(text):\n",
        "    # Initialize VADER sentiment analyzer\n",
        "    sid = SentimentIntensityAnalyzer()\n",
        "\n",
        "    # Check if text is empty\n",
        "    if not text or pd.isna(text):\n",
        "        return pd.Series({\n",
        "            'text_length': 0,\n",
        "            'word_count': 0,\n",
        "            'avg_word_length': 0,\n",
        "            'vader_compound': 0,\n",
        "            'vader_neg': 0,\n",
        "            'vader_neu': 0,\n",
        "            'vader_pos': 0\n",
        "        })\n",
        "\n",
        "    text = str(text)\n",
        "\n",
        "    # Get sentiment scores\n",
        "    sentiment_scores = sid.polarity_scores(text)\n",
        "\n",
        "    # Extract text statistics\n",
        "    words = text.split()\n",
        "    word_count = len(words)\n",
        "    text_length = len(text)\n",
        "    avg_word_length = text_length / max(word_count, 1)  # Avoid division by zero\n",
        "\n",
        "    return pd.Series({\n",
        "        'text_length': text_length,\n",
        "        'word_count': word_count,\n",
        "        'avg_word_length': avg_word_length,\n",
        "        'vader_compound': sentiment_scores['compound'],\n",
        "        'vader_neg': sentiment_scores['neg'],\n",
        "        'vader_neu': sentiment_scores['neu'],\n",
        "        'vader_pos': sentiment_scores['pos']\n",
        "    })"
      ],
      "metadata": {
        "id": "PZ6ZSNGg9uzB"
      },
      "execution_count": 382,
      "outputs": []
    },
    {
      "cell_type": "code",
      "source": [
        "def create_time_features(df):\n",
        "    time_cols = ['Year', 'Month', 'Day', 'Hour']\n",
        "    for col in time_cols:\n",
        "        df[col.lower()] = pd.to_numeric(df[col], errors='coerce')\n",
        "\n",
        "    df['is_weekend'] = df['Day'].apply(lambda x: 1 if x in [5, 6] else 0)\n",
        "    return df"
      ],
      "metadata": {
        "id": "LUZFpXsTKouM"
      },
      "execution_count": 383,
      "outputs": []
    },
    {
      "cell_type": "code",
      "source": [
        "def create_engagement_features(df):\n",
        "    df['Likes'] = pd.to_numeric(df['Likes'], errors='coerce').fillna(0)\n",
        "    df['Retweets'] = pd.to_numeric(df['Retweets'], errors='coerce').fillna(0)\n",
        "    df['total_engagement'] = df['Likes'] + df['Retweets']\n",
        "    df['engagement_ratio'] = df['Retweets'] / df['Likes'].replace(0, 1)\n",
        "    return df"
      ],
      "metadata": {
        "id": "YQdgGRwqKzWh"
      },
      "execution_count": 384,
      "outputs": []
    },
    {
      "cell_type": "code",
      "execution_count": 385,
      "metadata": {
        "id": "MPUgjF3ReaB9",
        "colab": {
          "base_uri": "https://localhost:8080/"
        },
        "outputId": "ab5a0546-aa7b-4836-86a4-6c04074d97da"
      },
      "outputs": [
        {
          "output_type": "stream",
          "name": "stdout",
          "text": [
            "Preprocessing data...\n",
            "Original number of samples: 732\n",
            "Original number of unique sentiments: 191\n"
          ]
        }
      ],
      "source": [
        "# Clean up dataframe and preprocess text\n",
        "print(\"Preprocessing data...\")\n",
        "\n",
        "df = df.drop(columns=['Unnamed: 0.1', 'Unnamed: 0'], errors='ignore')\n",
        "df = df.dropna()\n",
        "\n",
        "# Clean sentiment values\n",
        "df[\"Sentiment\"] = df[\"Sentiment\"].str.strip()\n",
        "\n",
        "# Preprocess text and create NLP features\n",
        "df[\"ProcessedText\"] = df[\"Text\"].apply(preprocess_text)\n",
        "nlp_features = df[\"Text\"].apply(extract_nlp_features)\n",
        "df = pd.concat([df, nlp_features], axis=1)\n",
        "\n",
        "# Create time features\n",
        "df = create_time_features(df)\n",
        "\n",
        "# Create engagement features\n",
        "df = create_engagement_features(df)\n",
        "\n",
        "# Print initial class distribution\n",
        "print(f\"Original number of samples: {len(df)}\")\n",
        "print(f\"Original number of unique sentiments: {df['Sentiment'].nunique()}\")"
      ]
    },
    {
      "cell_type": "code",
      "execution_count": 386,
      "metadata": {
        "colab": {
          "base_uri": "https://localhost:8080/"
        },
        "id": "WqoX6-nteaB-",
        "outputId": "58957a65-1207-4d39-891e-3bcb74057c50"
      },
      "outputs": [
        {
          "output_type": "stream",
          "name": "stdout",
          "text": [
            "Class distribution before filtering (top 10): \n",
            "SentimentEncoded\n",
            "146    45\n",
            "116    44\n",
            "76     37\n",
            "40     19\n",
            "135    18\n",
            "90     18\n",
            "46     16\n",
            "166    15\n",
            "93     14\n",
            "50     11\n",
            "Name: count, dtype: int64\n",
            "Number of classes with only 1 sample (to be removed): 79\n",
            "Number of samples after filtering: 653\n",
            "Number of unique sentiments after filtering: 112\n",
            "Class distribution after filtering (sample counts): [8 3 4 2 3 2 6 3 2 3]...\n"
          ]
        }
      ],
      "source": [
        "# Encode labels and print distribution\n",
        "label_encoder = LabelEncoder()\n",
        "df[\"SentimentEncoded\"] = label_encoder.fit_transform(df[\"Sentiment\"])\n",
        "class_counts = df[\"SentimentEncoded\"].value_counts()\n",
        "print(f\"Class distribution before filtering (top 10): \\n{class_counts.head(10)}\")\n",
        "\n",
        "# Remove very rare classes (with only 1 sample)\n",
        "rare_classes = class_counts[class_counts < 2].index\n",
        "print(f\"Number of classes with only 1 sample (to be removed): {len(rare_classes)}\")\n",
        "df = df[~df[\"SentimentEncoded\"].isin(rare_classes)]\n",
        "\n",
        "# Re-encode labels after filtering to get consecutive class indices\n",
        "X = df[\"ProcessedText\"]\n",
        "y_classes = df[\"Sentiment\"]\n",
        "label_encoder = LabelEncoder()\n",
        "y = label_encoder.fit_transform(y_classes)\n",
        "\n",
        "# Prepare feature sets\n",
        "# 1. Text features\n",
        "print(f\"Number of samples after filtering: {len(df)}\")\n",
        "print(f\"Number of unique sentiments after filtering: {len(np.unique(y))}\")\n",
        "print(f\"Class distribution after filtering (sample counts): {np.bincount(y)[:10]}...\")"
      ]
    },
    {
      "cell_type": "code",
      "source": [
        "# Cosine Similarity-based Grouping\n",
        "sentiment_features = df[['vader_compound', 'vader_neg', 'vader_neu', 'vader_pos']]\n",
        "sentiment_features.fillna(0, inplace=True)\n",
        "\n",
        "dist_matrix = squareform(pdist(sentiment_features, metric='cosine'))\n",
        "linkage_matrix = linkage(dist_matrix, method='ward')\n",
        "\n",
        "group_series = pd.Series(fcluster(linkage_matrix, t=5, criterion='maxclust'), index=df.index)\n",
        "df['Sentiment_Group'] = group_series\n"
      ],
      "metadata": {
        "colab": {
          "base_uri": "https://localhost:8080/"
        },
        "id": "pNifOIENUyV_",
        "outputId": "8773d8a9-84d0-4cca-b25e-15fe3c42747e"
      },
      "execution_count": 387,
      "outputs": [
        {
          "output_type": "stream",
          "name": "stderr",
          "text": [
            "<ipython-input-387-dadd01db83b8>:3: SettingWithCopyWarning: \n",
            "A value is trying to be set on a copy of a slice from a DataFrame\n",
            "\n",
            "See the caveats in the documentation: https://pandas.pydata.org/pandas-docs/stable/user_guide/indexing.html#returning-a-view-versus-a-copy\n",
            "  sentiment_features.fillna(0, inplace=True)\n",
            "<ipython-input-387-dadd01db83b8>:6: ClusterWarning: The symmetric non-negative hollow observation matrix looks suspiciously like an uncondensed distance matrix\n",
            "  linkage_matrix = linkage(dist_matrix, method='ward')\n"
          ]
        }
      ]
    },
    {
      "cell_type": "code",
      "execution_count": 388,
      "metadata": {
        "colab": {
          "base_uri": "https://localhost:8080/"
        },
        "id": "hh3YpIYDeaB_",
        "outputId": "7d21c2c3-3a6e-4634-89ff-7e5fbb2b3018"
      },
      "outputs": [
        {
          "output_type": "stream",
          "name": "stdout",
          "text": [
            "Train set shape: 522 samples\n",
            "Test set shape: 131 samples\n"
          ]
        }
      ],
      "source": [
        "# Split dataset into train and test sets\n",
        "X_train, X_test, y_train, y_test, classes_train, classes_test = train_test_split(\n",
        "    X, y, y_classes, test_size=0.2, random_state=42, stratify=y\n",
        ")\n",
        "\n",
        "print(f\"Train set shape: {X_train.shape[0]} samples\")\n",
        "print(f\"Test set shape: {X_test.shape[0]} samples\")"
      ]
    },
    {
      "cell_type": "code",
      "execution_count": 389,
      "metadata": {
        "colab": {
          "base_uri": "https://localhost:8080/"
        },
        "id": "JK7-4KIceaB_",
        "outputId": "10cbe02b-8872-4a57-ce6c-1e5013cd0116"
      },
      "outputs": [
        {
          "output_type": "stream",
          "name": "stdout",
          "text": [
            "TF-IDF features shape: (522, 4980)\n"
          ]
        }
      ],
      "source": [
        "# Convert text to numerical features\n",
        "vectorizer = TfidfVectorizer(ngram_range=(1,2), max_features=10000)\n",
        "X_train_tfidf = vectorizer.fit_transform(X_train)\n",
        "X_test_tfidf = vectorizer.transform(X_test)\n",
        "\n",
        "print(f\"TF-IDF features shape: {X_train_tfidf.shape}\")"
      ]
    },
    {
      "cell_type": "code",
      "execution_count": 390,
      "metadata": {
        "colab": {
          "base_uri": "https://localhost:8080/"
        },
        "id": "fTi_yCzqeaCA",
        "outputId": "fb457a4d-ff15-43a4-e2e7-50e80711b8e8"
      },
      "outputs": [
        {
          "output_type": "stream",
          "name": "stdout",
          "text": [
            "Training set class distribution before SMOTE (min: 2, max: 36)\n",
            "SMOTE successfully applied\n",
            "Training samples after SMOTE: 4032\n",
            "Class distribution after SMOTE (min: 36, max: 36)\n"
          ]
        }
      ],
      "source": [
        "# Apply SMOTE ONLY to the training data\n",
        "class_counts_train = np.bincount(y_train)\n",
        "print(f\"Training set class distribution before SMOTE (min: {min(class_counts_train)}, max: {max(class_counts_train)})\")\n",
        "\n",
        "try:\n",
        "    # Use regular SMOTE instead of BorderlineSMOTE for better handling of many classes\n",
        "    # Set sampling_strategy to 'auto' to balance all classes to the majority class size\n",
        "    # Use k_neighbors=1 for classes with very few samples\n",
        "    smote = SMOTE(random_state=42, k_neighbors=1, sampling_strategy='not majority')\n",
        "    X_train_resampled, y_train_resampled = smote.fit_resample(X_train_tfidf, y_train)\n",
        "    print(\"SMOTE successfully applied\")\n",
        "    print(f\"Training samples after SMOTE: {X_train_resampled.shape[0]}\")\n",
        "    unique, counts = np.unique(y_train_resampled, return_counts=True)\n",
        "    print(f\"Class distribution after SMOTE (min: {min(counts)}, max: {max(counts)})\")\n",
        "except Exception as e:\n",
        "    print(f\"Error applying SMOTE: {e}\")\n",
        "    print(\"Continuing without SMOTE\")\n",
        "    X_train_resampled, y_train_resampled = X_train_tfidf, y_train"
      ]
    },
    {
      "cell_type": "code",
      "execution_count": 391,
      "metadata": {
        "id": "wct_gEeqeaCB"
      },
      "outputs": [],
      "source": [
        "# Convert to PyTorch tensors\n",
        "X_train_tensor = torch.FloatTensor(X_train_resampled.toarray())\n",
        "X_test_tensor = torch.FloatTensor(X_test_tfidf.toarray())\n",
        "y_train_tensor = torch.LongTensor(y_train_resampled)\n",
        "y_test_tensor = torch.LongTensor(y_test)\n",
        "\n",
        "# Create PyTorch datasets and dataloaders\n",
        "train_dataset = TensorDataset(X_train_tensor, y_train_tensor)\n",
        "test_dataset = TensorDataset(X_test_tensor, y_test_tensor)\n",
        "\n",
        "# Use a smaller batch size for many classes\n",
        "batch_size = 32\n",
        "train_loader = DataLoader(train_dataset, batch_size=batch_size, shuffle=True)\n",
        "test_loader = DataLoader(test_dataset, batch_size=batch_size, shuffle=False)"
      ]
    },
    {
      "cell_type": "code",
      "execution_count": 392,
      "metadata": {
        "id": "DUqvzZETeaCB"
      },
      "outputs": [],
      "source": [
        "# Define an improved PyTorch model for many classes\n",
        "class SentimentClassifier(nn.Module):\n",
        "    def __init__(self, input_dim, num_classes, dropout_rate=0.3):\n",
        "        super(SentimentClassifier, self).__init__()\n",
        "        self.dropout_rate = dropout_rate\n",
        "\n",
        "        # First fully connected layer with batch normalization\n",
        "        self.fc1 = nn.Linear(input_dim, 1024)\n",
        "        self.bn1 = nn.BatchNorm1d(1024)\n",
        "\n",
        "        # Second fully connected layer with batch normalization\n",
        "        self.fc2 = nn.Linear(1024, 512)\n",
        "        self.bn2 = nn.BatchNorm1d(512)\n",
        "\n",
        "        # Output layer\n",
        "        self.fc3 = nn.Linear(512, num_classes)\n",
        "\n",
        "        # Dropout and activation\n",
        "        self.dropout = nn.Dropout(dropout_rate)\n",
        "        self.relu = nn.ReLU()\n",
        "\n",
        "    def forward(self, x):\n",
        "        # First layer with batch norm, activation, and dropout\n",
        "        x = self.fc1(x)\n",
        "        x = self.bn1(x)\n",
        "        x = self.relu(x)\n",
        "        x = self.dropout(x)\n",
        "\n",
        "        # Second layer with batch norm, activation, and dropout\n",
        "        x = self.fc2(x)\n",
        "        x = self.bn2(x)\n",
        "        x = self.relu(x)\n",
        "        x = self.dropout(x)\n",
        "\n",
        "        # Output layer\n",
        "        x = self.fc3(x)\n",
        "        return x"
      ]
    },
    {
      "cell_type": "code",
      "execution_count": 393,
      "metadata": {
        "id": "3ZY3zJydeaCC",
        "colab": {
          "base_uri": "https://localhost:8080/"
        },
        "outputId": "5fd29b12-b785-4c0b-f733-bafacd894caa"
      },
      "outputs": [
        {
          "output_type": "stream",
          "name": "stdout",
          "text": [
            "Using device: cuda\n",
            "Building model with 4980 input features and 112 output classes\n"
          ]
        },
        {
          "output_type": "stream",
          "name": "stderr",
          "text": [
            "/usr/local/lib/python3.11/dist-packages/torch/optim/lr_scheduler.py:62: UserWarning: The verbose parameter is deprecated. Please use get_last_lr() to access the learning rate.\n",
            "  warnings.warn(\n"
          ]
        }
      ],
      "source": [
        "# Set device\n",
        "device = torch.device('cuda' if torch.cuda.is_available() else 'cpu')\n",
        "print(f\"Using device: {device}\")\n",
        "\n",
        "# Initialize model, loss function, and optimizer\n",
        "input_dim = X_train_tensor.shape[1]\n",
        "num_classes = len(np.unique(y_train_resampled))\n",
        "print(f\"Building model with {input_dim} input features and {num_classes} output classes\")\n",
        "\n",
        "model = SentimentClassifier(input_dim, num_classes, dropout_rate=0.3).to(device)\n",
        "criterion = nn.CrossEntropyLoss()\n",
        "optimizer = optim.Adam(model.parameters(), lr=0.001, weight_decay=1e-4)\n",
        "scheduler = optim.lr_scheduler.ReduceLROnPlateau(optimizer, 'min', patience=3, factor=0.5, verbose=True)"
      ]
    },
    {
      "cell_type": "code",
      "source": [
        "# Training function\n",
        "def train(model, train_loader, criterion, optimizer, device):\n",
        "    model.train()\n",
        "    running_loss = 0.0\n",
        "    correct = 0\n",
        "    total = 0\n",
        "\n",
        "    for inputs, labels in train_loader:\n",
        "        inputs, labels = inputs.to(device), labels.to(device)\n",
        "        optimizer.zero_grad()\n",
        "        outputs = model(inputs)\n",
        "        loss = criterion(outputs, labels)\n",
        "        loss.backward()\n",
        "        torch.nn.utils.clip_grad_norm_(model.parameters(), max_norm=1.0)\n",
        "        optimizer.step()\n",
        "        running_loss += loss.item() * inputs.size(0)\n",
        "        _, predicted = torch.max(outputs, 1)\n",
        "        total += labels.size(0)\n",
        "        correct += (predicted == labels).sum().item()\n",
        "\n",
        "    return running_loss / total, correct / total\n",
        "\n",
        "# Evaluation function\n",
        "def evaluate(model, data_loader, criterion, device):\n",
        "    model.eval()\n",
        "    running_loss = 0.0\n",
        "    correct = 0\n",
        "    total = 0\n",
        "    all_preds = []\n",
        "    all_labels = []\n",
        "\n",
        "    with torch.no_grad():\n",
        "        for inputs, labels in data_loader:\n",
        "            inputs, labels = inputs.to(device), labels.to(device)\n",
        "            outputs = model(inputs)\n",
        "            loss = criterion(outputs, labels)\n",
        "            running_loss += loss.item() * inputs.size(0)\n",
        "            _, predicted = torch.max(outputs, 1)\n",
        "            total += labels.size(0)\n",
        "            correct += (predicted == labels).sum().item()\n",
        "            all_preds.extend(predicted.cpu().numpy())\n",
        "            all_labels.extend(labels.cpu().numpy())\n",
        "\n",
        "    return running_loss / total, correct / total, all_preds, all_labels"
      ],
      "metadata": {
        "id": "ARJvnlaQcMqb"
      },
      "execution_count": null,
      "outputs": []
    },
    {
      "cell_type": "code",
      "execution_count": 394,
      "metadata": {
        "id": "bIaYgYqBeaCC",
        "colab": {
          "base_uri": "https://localhost:8080/",
          "height": 1000
        },
        "outputId": "583f2c79-0d97-4367-e934-d08fe43e9bc1"
      },
      "outputs": [
        {
          "output_type": "stream",
          "name": "stdout",
          "text": [
            "Epoch 1/300, Train Loss: 0.7296, Train Acc: 0.8941, Val Loss: 2.6418, Val Acc: 0.4504\n",
            "Model saved at epoch 1 with validation accuracy: 0.4504\n",
            "Epoch 2/300, Train Loss: 0.0144, Train Acc: 0.9973, Val Loss: 2.3633, Val Acc: 0.5573\n",
            "Model saved at epoch 2 with validation accuracy: 0.5573\n",
            "Epoch 3/300, Train Loss: 0.0062, Train Acc: 0.9993, Val Loss: 2.3142, Val Acc: 0.5649\n",
            "Model saved at epoch 3 with validation accuracy: 0.5649\n",
            "Epoch 4/300, Train Loss: 0.0063, Train Acc: 0.9990, Val Loss: 2.4677, Val Acc: 0.5191\n",
            "Epoch 5/300, Train Loss: 0.0045, Train Acc: 0.9995, Val Loss: 2.0970, Val Acc: 0.5649\n",
            "Epoch 6/300, Train Loss: 0.0034, Train Acc: 0.9998, Val Loss: 2.0718, Val Acc: 0.5878\n",
            "Model saved at epoch 6 with validation accuracy: 0.5878\n",
            "Epoch 7/300, Train Loss: 0.0063, Train Acc: 0.9995, Val Loss: 2.0640, Val Acc: 0.5878\n",
            "Epoch 8/300, Train Loss: 0.0076, Train Acc: 0.9993, Val Loss: 2.4113, Val Acc: 0.4962\n",
            "Epoch 9/300, Train Loss: 0.0124, Train Acc: 0.9990, Val Loss: 2.1074, Val Acc: 0.5802\n",
            "Epoch 10/300, Train Loss: 0.0156, Train Acc: 0.9988, Val Loss: 2.2569, Val Acc: 0.5954\n",
            "Model saved at epoch 10 with validation accuracy: 0.5954\n",
            "Epoch 11/300, Train Loss: 0.0045, Train Acc: 0.9995, Val Loss: 1.9766, Val Acc: 0.6260\n",
            "Model saved at epoch 11 with validation accuracy: 0.6260\n",
            "Epoch 12/300, Train Loss: 0.0062, Train Acc: 0.9993, Val Loss: 2.2689, Val Acc: 0.6031\n",
            "Epoch 13/300, Train Loss: 0.0025, Train Acc: 1.0000, Val Loss: 2.1651, Val Acc: 0.6031\n",
            "Epoch 14/300, Train Loss: 0.0038, Train Acc: 0.9998, Val Loss: 2.2931, Val Acc: 0.5878\n",
            "Epoch 15/300, Train Loss: 0.0075, Train Acc: 0.9998, Val Loss: 2.3856, Val Acc: 0.5496\n",
            "Epoch 16/300, Train Loss: 0.0067, Train Acc: 0.9993, Val Loss: 1.9902, Val Acc: 0.5954\n",
            "Epoch 17/300, Train Loss: 0.0010, Train Acc: 1.0000, Val Loss: 1.9179, Val Acc: 0.6183\n",
            "Epoch 18/300, Train Loss: 0.0009, Train Acc: 1.0000, Val Loss: 1.8457, Val Acc: 0.6260\n",
            "Epoch 19/300, Train Loss: 0.0011, Train Acc: 1.0000, Val Loss: 1.8844, Val Acc: 0.6183\n",
            "Epoch 20/300, Train Loss: 0.0012, Train Acc: 1.0000, Val Loss: 1.8549, Val Acc: 0.6260\n",
            "Epoch 21/300, Train Loss: 0.0013, Train Acc: 1.0000, Val Loss: 1.8506, Val Acc: 0.6260\n",
            "Epoch 22/300, Train Loss: 0.0015, Train Acc: 1.0000, Val Loss: 1.8868, Val Acc: 0.6107\n",
            "Epoch 23/300, Train Loss: 0.0015, Train Acc: 1.0000, Val Loss: 1.8704, Val Acc: 0.6260\n",
            "Epoch 24/300, Train Loss: 0.0015, Train Acc: 1.0000, Val Loss: 1.9027, Val Acc: 0.6183\n",
            "Epoch 25/300, Train Loss: 0.0015, Train Acc: 1.0000, Val Loss: 1.8249, Val Acc: 0.6412\n",
            "Model saved at epoch 25 with validation accuracy: 0.6412\n",
            "Epoch 26/300, Train Loss: 0.0015, Train Acc: 1.0000, Val Loss: 1.8464, Val Acc: 0.6260\n",
            "Epoch 27/300, Train Loss: 0.0017, Train Acc: 1.0000, Val Loss: 1.8347, Val Acc: 0.6183\n",
            "Epoch 28/300, Train Loss: 0.0018, Train Acc: 1.0000, Val Loss: 1.8142, Val Acc: 0.6260\n",
            "Epoch 29/300, Train Loss: 0.0017, Train Acc: 1.0000, Val Loss: 1.8085, Val Acc: 0.6336\n",
            "Epoch 30/300, Train Loss: 0.0017, Train Acc: 1.0000, Val Loss: 1.7888, Val Acc: 0.6412\n",
            "Epoch 31/300, Train Loss: 0.0018, Train Acc: 1.0000, Val Loss: 1.7928, Val Acc: 0.6336\n",
            "Epoch 32/300, Train Loss: 0.0018, Train Acc: 1.0000, Val Loss: 1.8082, Val Acc: 0.6412\n",
            "Epoch 33/300, Train Loss: 0.0019, Train Acc: 1.0000, Val Loss: 1.8403, Val Acc: 0.6412\n",
            "Epoch 34/300, Train Loss: 0.0021, Train Acc: 1.0000, Val Loss: 1.7938, Val Acc: 0.6336\n",
            "Epoch 35/300, Train Loss: 0.0016, Train Acc: 1.0000, Val Loss: 1.8054, Val Acc: 0.6412\n",
            "Epoch 36/300, Train Loss: 0.0014, Train Acc: 1.0000, Val Loss: 1.8015, Val Acc: 0.6489\n",
            "Model saved at epoch 36 with validation accuracy: 0.6489\n",
            "Epoch 37/300, Train Loss: 0.0015, Train Acc: 1.0000, Val Loss: 1.7795, Val Acc: 0.6565\n",
            "Model saved at epoch 37 with validation accuracy: 0.6565\n",
            "Epoch 38/300, Train Loss: 0.0016, Train Acc: 1.0000, Val Loss: 1.7770, Val Acc: 0.6412\n",
            "Epoch 39/300, Train Loss: 0.0016, Train Acc: 1.0000, Val Loss: 1.7202, Val Acc: 0.6565\n",
            "Epoch 40/300, Train Loss: 0.0019, Train Acc: 1.0000, Val Loss: 1.7063, Val Acc: 0.6412\n",
            "Epoch 41/300, Train Loss: 0.0017, Train Acc: 1.0000, Val Loss: 1.7327, Val Acc: 0.6336\n",
            "Epoch 42/300, Train Loss: 0.0016, Train Acc: 1.0000, Val Loss: 1.7397, Val Acc: 0.6489\n",
            "Epoch 43/300, Train Loss: 0.0017, Train Acc: 1.0000, Val Loss: 1.7500, Val Acc: 0.6336\n",
            "Epoch 44/300, Train Loss: 0.0020, Train Acc: 1.0000, Val Loss: 1.7747, Val Acc: 0.6412\n",
            "Epoch 45/300, Train Loss: 0.0017, Train Acc: 1.0000, Val Loss: 1.7988, Val Acc: 0.6489\n",
            "Epoch 46/300, Train Loss: 0.0016, Train Acc: 1.0000, Val Loss: 1.7360, Val Acc: 0.6412\n",
            "Epoch 47/300, Train Loss: 0.0015, Train Acc: 1.0000, Val Loss: 1.7386, Val Acc: 0.6412\n",
            "Epoch 48/300, Train Loss: 0.0015, Train Acc: 1.0000, Val Loss: 1.7351, Val Acc: 0.6412\n",
            "Epoch 49/300, Train Loss: 0.0015, Train Acc: 1.0000, Val Loss: 1.7370, Val Acc: 0.6412\n",
            "Epoch 50/300, Train Loss: 0.0015, Train Acc: 1.0000, Val Loss: 1.7230, Val Acc: 0.6336\n",
            "Epoch 51/300, Train Loss: 0.0015, Train Acc: 1.0000, Val Loss: 1.6926, Val Acc: 0.6336\n",
            "Epoch 52/300, Train Loss: 0.0015, Train Acc: 1.0000, Val Loss: 1.7012, Val Acc: 0.6336\n",
            "Epoch 53/300, Train Loss: 0.0016, Train Acc: 1.0000, Val Loss: 1.7011, Val Acc: 0.6412\n",
            "Epoch 54/300, Train Loss: 0.0016, Train Acc: 1.0000, Val Loss: 1.7144, Val Acc: 0.6412\n",
            "Epoch 55/300, Train Loss: 0.0016, Train Acc: 1.0000, Val Loss: 1.7240, Val Acc: 0.6489\n",
            "Epoch 56/300, Train Loss: 0.0016, Train Acc: 1.0000, Val Loss: 1.7069, Val Acc: 0.6489\n",
            "Epoch 57/300, Train Loss: 0.0015, Train Acc: 1.0000, Val Loss: 1.7103, Val Acc: 0.6412\n",
            "Epoch 58/300, Train Loss: 0.0016, Train Acc: 1.0000, Val Loss: 1.7261, Val Acc: 0.6489\n",
            "Epoch 59/300, Train Loss: 0.0016, Train Acc: 1.0000, Val Loss: 1.7031, Val Acc: 0.6412\n",
            "Epoch 60/300, Train Loss: 0.0015, Train Acc: 1.0000, Val Loss: 1.6936, Val Acc: 0.6565\n",
            "Epoch 61/300, Train Loss: 0.0015, Train Acc: 1.0000, Val Loss: 1.6921, Val Acc: 0.6489\n",
            "Epoch 62/300, Train Loss: 0.0015, Train Acc: 1.0000, Val Loss: 1.7035, Val Acc: 0.6489\n",
            "Epoch 63/300, Train Loss: 0.0015, Train Acc: 1.0000, Val Loss: 1.7051, Val Acc: 0.6489\n",
            "Epoch 64/300, Train Loss: 0.0015, Train Acc: 1.0000, Val Loss: 1.7151, Val Acc: 0.6412\n",
            "Epoch 65/300, Train Loss: 0.0015, Train Acc: 1.0000, Val Loss: 1.7084, Val Acc: 0.6565\n",
            "Epoch 66/300, Train Loss: 0.0015, Train Acc: 1.0000, Val Loss: 1.7231, Val Acc: 0.6489\n",
            "Epoch 67/300, Train Loss: 0.0015, Train Acc: 1.0000, Val Loss: 1.7196, Val Acc: 0.6489\n",
            "Epoch 68/300, Train Loss: 0.0015, Train Acc: 1.0000, Val Loss: 1.7334, Val Acc: 0.6489\n",
            "Epoch 69/300, Train Loss: 0.0015, Train Acc: 1.0000, Val Loss: 1.7157, Val Acc: 0.6336\n",
            "Epoch 70/300, Train Loss: 0.0015, Train Acc: 1.0000, Val Loss: 1.7143, Val Acc: 0.6565\n",
            "Epoch 71/300, Train Loss: 0.0015, Train Acc: 1.0000, Val Loss: 1.7164, Val Acc: 0.6336\n",
            "Epoch 72/300, Train Loss: 0.0015, Train Acc: 1.0000, Val Loss: 1.7199, Val Acc: 0.6412\n",
            "Epoch 73/300, Train Loss: 0.0016, Train Acc: 1.0000, Val Loss: 1.7182, Val Acc: 0.6489\n",
            "Epoch 74/300, Train Loss: 0.0015, Train Acc: 1.0000, Val Loss: 1.7232, Val Acc: 0.6412\n",
            "Epoch 75/300, Train Loss: 0.0014, Train Acc: 1.0000, Val Loss: 1.7077, Val Acc: 0.6489\n",
            "Epoch 76/300, Train Loss: 0.0015, Train Acc: 1.0000, Val Loss: 1.7186, Val Acc: 0.6489\n",
            "Epoch 77/300, Train Loss: 0.0014, Train Acc: 1.0000, Val Loss: 1.7223, Val Acc: 0.6412\n",
            "Epoch 78/300, Train Loss: 0.0015, Train Acc: 1.0000, Val Loss: 1.7199, Val Acc: 0.6336\n",
            "Epoch 79/300, Train Loss: 0.0015, Train Acc: 1.0000, Val Loss: 1.7111, Val Acc: 0.6489\n",
            "Epoch 80/300, Train Loss: 0.0016, Train Acc: 1.0000, Val Loss: 1.7097, Val Acc: 0.6412\n",
            "Epoch 81/300, Train Loss: 0.0015, Train Acc: 1.0000, Val Loss: 1.7019, Val Acc: 0.6412\n",
            "Epoch 82/300, Train Loss: 0.0015, Train Acc: 1.0000, Val Loss: 1.7079, Val Acc: 0.6489\n",
            "Epoch 83/300, Train Loss: 0.0014, Train Acc: 1.0000, Val Loss: 1.7064, Val Acc: 0.6412\n",
            "Epoch 84/300, Train Loss: 0.0016, Train Acc: 1.0000, Val Loss: 1.7142, Val Acc: 0.6565\n",
            "Epoch 85/300, Train Loss: 0.0015, Train Acc: 1.0000, Val Loss: 1.7245, Val Acc: 0.6412\n",
            "Epoch 86/300, Train Loss: 0.0014, Train Acc: 1.0000, Val Loss: 1.7051, Val Acc: 0.6336\n",
            "Epoch 87/300, Train Loss: 0.0015, Train Acc: 1.0000, Val Loss: 1.7239, Val Acc: 0.6489\n",
            "Early stopping after 50 epochs without improvement\n",
            "Loaded best model from epoch 37 with validation accuracy: 0.6565\n",
            "\n",
            "Final Test Accuracy: 0.6565\n",
            "Classification Report:\n",
            "               precision    recall  f1-score   support\n",
            "\n",
            "           0       1.00      1.00      1.00         2\n",
            "           1       1.00      0.00      0.00         1\n",
            "           2       1.00      0.00      0.00         1\n",
            "           4       1.00      0.00      0.00         1\n",
            "           6       1.00      1.00      1.00         1\n",
            "           7       1.00      1.00      1.00         1\n",
            "           9       1.00      0.00      0.00         1\n",
            "          12       1.00      1.00      1.00         1\n",
            "          13       0.50      0.50      0.50         2\n",
            "          14       1.00      1.00      1.00         1\n",
            "          15       0.33      1.00      0.50         1\n",
            "          16       1.00      1.00      1.00         1\n",
            "          17       0.00      0.00      0.00         1\n",
            "          18       1.00      1.00      1.00         1\n",
            "          19       1.00      1.00      1.00         1\n",
            "          21       1.00      1.00      1.00         1\n",
            "          22       1.00      1.00      1.00         1\n",
            "          23       1.00      1.00      1.00         1\n",
            "          24       1.00      1.00      1.00         2\n",
            "          26       0.44      1.00      0.62         4\n",
            "          28       1.00      1.00      1.00         1\n",
            "          29       1.00      0.33      0.50         3\n",
            "          30       1.00      0.00      0.00         1\n",
            "          31       1.00      1.00      1.00         2\n",
            "          32       0.50      1.00      0.67         1\n",
            "          33       1.00      0.00      0.00         1\n",
            "          36       1.00      1.00      1.00         1\n",
            "          37       1.00      1.00      1.00         1\n",
            "          38       1.00      1.00      1.00         1\n",
            "          39       1.00      0.50      0.67         2\n",
            "          41       1.00      1.00      1.00         1\n",
            "          42       1.00      1.00      1.00         1\n",
            "          43       1.00      0.00      0.00         1\n",
            "          45       0.00      0.00      0.00         1\n",
            "          46       1.00      0.00      0.00         1\n",
            "          48       1.00      1.00      1.00         1\n",
            "          49       0.40      0.50      0.44         8\n",
            "          52       1.00      1.00      1.00         1\n",
            "          53       1.00      1.00      1.00         1\n",
            "          54       1.00      1.00      1.00         1\n",
            "          55       1.00      0.00      0.00         1\n",
            "          56       1.00      1.00      1.00         1\n",
            "          57       1.00      0.00      0.00         1\n",
            "          58       0.60      0.75      0.67         4\n",
            "          59       1.00      1.00      1.00         2\n",
            "          60       1.00      1.00      1.00         1\n",
            "          61       0.00      0.00      0.00         3\n",
            "          62       1.00      1.00      1.00         1\n",
            "          63       0.50      1.00      0.67         1\n",
            "          64       1.00      0.00      0.00         1\n",
            "          66       1.00      1.00      1.00         1\n",
            "          67       1.00      1.00      1.00         2\n",
            "          68       1.00      1.00      1.00         1\n",
            "          69       1.00      0.00      0.00         1\n",
            "          70       0.50      1.00      0.67         1\n",
            "          73       1.00      0.00      0.00         1\n",
            "          74       1.00      1.00      1.00         1\n",
            "          75       0.54      0.78      0.64         9\n",
            "          76       1.00      1.00      1.00         1\n",
            "          77       1.00      1.00      1.00         2\n",
            "          78       0.00      1.00      0.00         0\n",
            "          79       1.00      0.00      0.00         1\n",
            "          80       1.00      0.00      0.00         1\n",
            "          82       1.00      0.00      0.00         1\n",
            "          83       0.33      0.50      0.40         4\n",
            "          84       0.67      1.00      0.80         2\n",
            "          85       1.00      1.00      1.00         1\n",
            "          86       1.00      0.00      0.00         1\n",
            "          87       1.00      1.00      1.00         1\n",
            "          88       0.50      0.56      0.53         9\n",
            "          89       0.00      0.00      0.00         1\n",
            "          90       1.00      0.00      0.00         1\n",
            "          92       1.00      0.00      0.00         1\n",
            "          93       1.00      1.00      1.00         1\n",
            "          95       1.00      1.00      1.00         1\n",
            "          96       0.00      1.00      0.00         0\n",
            "          97       1.00      1.00      1.00         1\n",
            "          98       0.50      0.50      0.50         2\n",
            "         100       1.00      0.00      0.00         1\n",
            "         101       1.00      1.00      1.00         3\n",
            "         102       1.00      1.00      1.00         1\n",
            "         104       1.00      1.00      1.00         1\n",
            "         105       1.00      1.00      1.00         1\n",
            "         106       1.00      0.00      0.00         1\n",
            "         109       1.00      1.00      1.00         1\n",
            "\n",
            "    accuracy                           0.66       131\n",
            "   macro avg       0.85      0.66      0.61       131\n",
            "weighted avg       0.77      0.66      0.62       131\n",
            "\n",
            "Confusion matrix saved to 'confusion_matrix.png'\n",
            "\n",
            "Example prediction function:\n",
            "predict_sentiment('I love this product!', model, vectorizer, label_encoder, device)\n"
          ]
        },
        {
          "output_type": "display_data",
          "data": {
            "text/plain": [
              "<Figure size 1000x800 with 2 Axes>"
            ],
            "image/png": "[encoded data removed]"
          },
          "metadata": {}
        }
      ],
      "source": [
        "# Training loop with early stopping\n",
        "num_epochs = 300\n",
        "best_accuracy = 0.0\n",
        "patience = 50\n",
        "no_improvement = 0\n",
        "\n",
        "try:\n",
        "    for epoch in range(num_epochs):\n",
        "        train_loss, train_acc = train(model, train_loader, criterion, optimizer, device)\n",
        "        val_loss, val_acc, _, _ = evaluate(model, test_loader, criterion, device)\n",
        "\n",
        "        # Learning rate scheduler based on validation loss\n",
        "        scheduler.step(val_loss)\n",
        "\n",
        "        print(f'Epoch {epoch+1}/{num_epochs}, Train Loss: {train_loss:.4f}, Train Acc: {train_acc:.4f}, Val Loss: {val_loss:.4f}, Val Acc: {val_acc:.4f}')\n",
        "\n",
        "        # Save best model and check for early stopping\n",
        "        if val_acc > best_accuracy:\n",
        "            best_accuracy = val_acc\n",
        "            torch.save({\n",
        "                'epoch': epoch,\n",
        "                'model_state_dict': model.state_dict(),\n",
        "                'optimizer_state_dict': optimizer.state_dict(),\n",
        "                'accuracy': val_acc,\n",
        "                'label_encoder': label_encoder\n",
        "            }, 'best_sentiment_model.pth')\n",
        "            print(f'Model saved at epoch {epoch+1} with validation accuracy: {val_acc:.4f}')\n",
        "            no_improvement = 0\n",
        "        else:\n",
        "            no_improvement += 1\n",
        "            if no_improvement == patience:\n",
        "                print(f'Early stopping after {patience} epochs without improvement')\n",
        "                break\n",
        "\n",
        "except KeyboardInterrupt:\n",
        "    print(\"Training interrupted!\")\n",
        "\n",
        "# Load the best model for final evaluation\n",
        "try:\n",
        "    # Add this line to register your LabelEncoder class as safe for loading:\n",
        "    torch.serialization.add_safe_globals([LabelEncoder, np.core.multiarray._reconstruct])\n",
        "    checkpoint = torch.load('best_sentiment_model.pth', weights_only=False) # Explicitly set weights_only=False\n",
        "    model.load_state_dict(checkpoint['model_state_dict'])\n",
        "    print(f\"Loaded best model from epoch {checkpoint['epoch']+1} with validation accuracy: {checkpoint['accuracy']:.4f}\")\n",
        "except FileNotFoundError:\n",
        "    print(\"Best model file not found. Continuing with current model state.\")\n",
        "\n",
        "# Final evaluation on test set\n",
        "test_loss, test_acc, all_preds, all_labels = evaluate(model, test_loader, criterion, device)\n",
        "print(f\"\\nFinal Test Accuracy: {test_acc:.4f}\")\n",
        "print(\"Classification Report:\\n\", classification_report(all_labels, all_preds, zero_division=1))\n",
        "\n",
        "# Convert numeric predictions back to original sentiment labels\n",
        "predicted_classes = label_encoder.inverse_transform(all_preds)\n",
        "true_classes = label_encoder.inverse_transform(all_labels)\n",
        "\n",
        "# Print confusion matrix for top classes (if matplotlib is available)\n",
        "try:\n",
        "    from sklearn.metrics import confusion_matrix\n",
        "    import matplotlib.pyplot as plt\n",
        "    import seaborn as sns\n",
        "\n",
        "    # Get most frequent classes\n",
        "    top_class_indices = np.argsort(np.bincount(all_labels))[-10:]  # Top 10 classes\n",
        "    mask = np.isin(all_labels, top_class_indices)\n",
        "\n",
        "    if np.sum(mask) > 0:  # If we have any samples from top classes\n",
        "        cm = confusion_matrix(\n",
        "            [true_classes[i] for i in range(len(true_classes)) if mask[i]],\n",
        "            [predicted_classes[i] for i in range(len(predicted_classes)) if mask[i]]\n",
        "        )\n",
        "\n",
        "        plt.figure(figsize=(10, 8))\n",
        "        sns.heatmap(cm, annot=True, fmt='d', cmap='Blues',\n",
        "                   xticklabels=[label_encoder.inverse_transform([i])[0] for i in top_class_indices],\n",
        "                   yticklabels=[label_encoder.inverse_transform([i])[0] for i in top_class_indices])\n",
        "        plt.xlabel('Predicted')\n",
        "        plt.ylabel('True')\n",
        "        plt.title('Confusion Matrix for Top Classes')\n",
        "        plt.tight_layout()\n",
        "        plt.savefig('confusion_matrix.png')\n",
        "        print(\"Confusion matrix saved to 'confusion_matrix.png'\")\n",
        "except ImportError:\n",
        "    print(\"Matplotlib or seaborn not available for confusion matrix visualization\")\n",
        "\n",
        "# Function to predict sentiment for new text\n",
        "def predict_sentiment(text, model, vectorizer, label_encoder, device):\n",
        "    # Preprocess the text\n",
        "    processed_text = preprocess_text(text)\n",
        "\n",
        "    # Vectorize\n",
        "    text_tfidf = vectorizer.transform([processed_text]).toarray()\n",
        "\n",
        "    # Convert to tensor\n",
        "    text_tensor = torch.FloatTensor(text_tfidf).to(device)\n",
        "\n",
        "    # Predict\n",
        "    model.eval()\n",
        "    with torch.no_grad():\n",
        "        outputs = model(text_tensor)\n",
        "        _, predicted = torch.max(outputs, 1)\n",
        "\n",
        "    # Convert to sentiment label\n",
        "    predicted_sentiment = label_encoder.inverse_transform(predicted.cpu().numpy())[0]\n",
        "\n",
        "    return predicted_sentiment\n",
        "\n",
        "# Example of prediction function usage\n",
        "print(\"\\nExample prediction function:\")\n",
        "print(\"predict_sentiment('I love this product!', model, vectorizer, label_encoder, device)\")"
      ]
    }
  ],
  "metadata": {
    "accelerator": "GPU",
    "colab": {
      "gpuType": "T4",
      "provenance": []
    },
    "kernelspec": {
      "display_name": "Python 3",
      "name": "python3"
    },
    "language_info": {
      "codemirror_mode": {
        "name": "ipython",
        "version": 3
      },
      "file_extension": ".py",
      "mimetype": "text/x-python",
      "name": "python",
      "nbconvert_exporter": "python",
      "pygments_lexer": "ipython3",
      "version": "3.11.9"
    }
  },
  "nbformat": 4,
  "nbformat_minor": 0
}